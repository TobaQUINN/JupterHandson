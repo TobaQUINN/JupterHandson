{
 "cells": [
  {
   "cell_type": "markdown",
   "id": "3be4cf0a-d239-49d6-a796-b997ce64ed69",
   "metadata": {},
   "source": [
    "# Data Science Tools and Ecosystem"
   ]
  },
  {
   "cell_type": "markdown",
   "id": "19655fc4-2147-4414-9a4f-9ccea7ea8725",
   "metadata": {},
   "source": [
    "In this Notebook, Data Science Tools and Ecosystem are summarized"
   ]
  },
  {
   "cell_type": "markdown",
   "id": "120aa77d-d4d3-4f92-9427-a2d196ca7052",
   "metadata": {},
   "source": [
    "Some of the popular languages that Data Scientists use are:\n",
    "1. Python\n",
    "2. R\n",
    "3. Scala\n",
    "4. Java\n",
    "5. Julia\n",
    "6. SQL\n",
    "7. C/C++"
   ]
  },
  {
   "cell_type": "markdown",
   "id": "9a7b3ed8-9ddf-4fb3-ab7c-c7000ad8dbd9",
   "metadata": {},
   "source": [
    "Some of the commonly used libraries used by Data Scientists Include:\n",
    "1. pandas\n",
    "2. Tensorflow\n",
    "3. Matplotlib\n",
    "4. Numpy\n",
    "5. Seaborn\n",
    "6. Scikitlearn\n",
    "7. PyTorch"
   ]
  },
  {
   "cell_type": "markdown",
   "id": "1c6a13c6-2f71-4e72-8105-5e141a9e5938",
   "metadata": {},
   "source": [
    "|Data Science Tools|\n",
    "|-----------------|\n",
    "|Jupter Notebook|\n",
    "|JupyterLab|\n",
    "|Visual Studio Code|\n",
    "|Spyder|\n",
    "|RStudio|"
   ]
  },
  {
   "cell_type": "markdown",
   "id": "15e7abfa-e10e-45d8-8261-6a8e48a2223a",
   "metadata": {},
   "source": [
    "### Below are a few example of evaluating arithmetic expressions in Python"
   ]
  },
  {
   "cell_type": "code",
   "execution_count": 1,
   "id": "69adb560-de5b-4923-86ce-d254e5d72288",
   "metadata": {},
   "outputs": [
    {
     "data": {
      "text/plain": [
       "17"
      ]
     },
     "execution_count": 1,
     "metadata": {},
     "output_type": "execute_result"
    }
   ],
   "source": [
    "# This is a simple arithmetic expression to multiply then add integers\n",
    "(3*4)+5"
   ]
  },
  {
   "cell_type": "code",
   "execution_count": 2,
   "id": "bf7e4ddc-b51e-487d-90ac-56a626ef119f",
   "metadata": {},
   "outputs": [
    {
     "data": {
      "text/plain": [
       "3.3333333333333335"
      ]
     },
     "execution_count": 2,
     "metadata": {},
     "output_type": "execute_result"
    }
   ],
   "source": [
    "# This will convert 200 minutes to hours by dividing by 60\n",
    "200/60"
   ]
  },
  {
   "cell_type": "markdown",
   "id": "a91eb5ce-8156-4b39-bd91-f3c4f7235686",
   "metadata": {},
   "source": [
    "*Objectives:*\n",
    "- Data Science Languages\n",
    "- Data Science Libraries\n",
    "- Data Science Tools\n",
    "- Evaluating arithmetic expressions in Python"
   ]
  },
  {
   "cell_type": "markdown",
   "id": "ce50f027-1953-439b-bb41-1070019877a0",
   "metadata": {},
   "source": [
    "## Author\n",
    "Amirah Alimi"
   ]
  }
 ],
 "metadata": {
  "kernelspec": {
   "display_name": "Python 3 (ipykernel)",
   "language": "python",
   "name": "python3"
  },
  "language_info": {
   "codemirror_mode": {
    "name": "ipython",
    "version": 3
   },
   "file_extension": ".py",
   "mimetype": "text/x-python",
   "name": "python",
   "nbconvert_exporter": "python",
   "pygments_lexer": "ipython3",
   "version": "3.11.11"
  }
 },
 "nbformat": 4,
 "nbformat_minor": 5
}
